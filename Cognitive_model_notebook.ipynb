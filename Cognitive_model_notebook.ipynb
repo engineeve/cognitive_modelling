{
 "cells": [
  {
   "cell_type": "raw",
   "metadata": {},
   "source": [
    "# Name: Niamh Donnelly\n",
    "# Student Number: 17204509"
   ]
  },
  {
   "cell_type": "code",
   "execution_count": 1,
   "metadata": {
    "collapsed": true
   },
   "outputs": [],
   "source": [
    "import pandas as pd\n",
    "import numpy as np\n",
    "from scipy import stats\n",
    "import matplotlib.pyplot as plt\n",
    "import seaborn as sns"
   ]
  },
  {
   "cell_type": "markdown",
   "metadata": {},
   "source": [
    "# Data Preprocessing "
   ]
  },
  {
   "attachments": {},
   "cell_type": "markdown",
   "metadata": {},
   "source": [
    "In order to represent the intuition that subjects cluster the training cards into groups by disease, a matrix was created to hold training examples for diseases A B and C."
   ]
  },
  {
   "cell_type": "code",
   "execution_count": 3,
   "metadata": {},
   "outputs": [
    {
     "name": "stdout",
     "output_type": "stream",
     "text": [
      "\n",
      "Disease A\n",
      "[['Puffy' 'Flaking' 'Knotty' 'A']\n",
      " ['Puffy' 'Sweaty' 'Twitchy' 'A']\n",
      " ['Puffy' 'Pallid' 'Limp' 'A']\n",
      " ['Sunken' 'Pallid' 'Twitchy' 'A']\n",
      " ['Bloodshot' 'Pallid' 'Strained' 'A']\n",
      " ['Puffy' 'Blotchy' 'Limp' 'A']]\n",
      "\n",
      "Disease B\n",
      "[['Bloodshot' 'Pallid' 'Strained' 'B']\n",
      " ['Puffy' 'Blotchy' 'Limp' 'B']\n",
      " ['Watery' 'Blotchy' 'Strained' 'B']\n",
      " ['Bloodshot' 'Blotchy' 'Strained' 'B']\n",
      " ['Sunken' 'Flaking' 'Strained' 'B']\n",
      " ['Watery' 'Sweaty' 'Strained' 'B']]\n",
      "\n",
      "Disease C\n",
      "[['Cloudy' 'Pallid' 'Twitchy' 'C']\n",
      " ['Cloudy' 'Flaking' 'Strained' 'C']\n",
      " ['Cloudy' 'Sweaty' 'Knotty' 'C']\n",
      " ['Cloudy' 'Pallid' 'Knotty' 'C']\n",
      " ['Cloudy' 'Flaking' 'Knotty' 'C']\n",
      " ['Bloodshot' 'Sweaty' 'Knotty' 'C']]\n"
     ]
    }
   ],
   "source": [
    "# Data Pre-processing\n",
    "data = pd.read_csv(\"Data4.csv\")\n",
    "df = np.array(data)\n",
    "\n",
    "# Training examples \n",
    "print \"\\nDisease A\"\n",
    "disease_A = df[0:6,0:4]\n",
    "print disease_A\n",
    "\n",
    "print \"\\nDisease B\"\n",
    "disease_B = df[6:12,0:4]\n",
    "print disease_B\n",
    "\n",
    "print \"\\nDisease C\"\n",
    "disease_C = df[12:18,0:4]\n",
    "print disease_C\n",
    "\n",
    "# Test examples\n",
    "df_test = df[21:26,0:3]"
   ]
  },
  {
   "cell_type": "markdown",
   "metadata": {},
   "source": [
    "# Rule-Exception Cognitive Model"
   ]
  },
  {
   "attachments": {},
   "cell_type": "markdown",
   "metadata": {},
   "source": [
    "A rule-exception approach was taken to represent the cognitive process of categorization. This model suggests that subjects make logical rules for each disease, and apply these rules to choose a disease category when presented with unseen data. The rules are based on the associated of a dimension value with a disease. For example, a rule could be represented as associating puffy eyes with disease A. The acceptance of a rule is based on how frequent the rule occurs i.e. the probability of the rule showing true. \n",
    "\n",
    "A threshold of 0.3 requires that an association is true for 30% or more disease examples for a rule to be created. For example, if Puffy eyes occurs 3 times out of the total 6 examples for disease A, the probability of occurrence is 0.50 and an association rule is stored. \n",
    "\n",
    "Exceptions to rules are also modelled. It is theorized that while human categorization processes create logical rules to represent categorical information, exceptions to these rules are also recorded. Only exceptions to ‘dominant’ rules are recorded for the outlined model. The dominant rule is the rule that has the highest probability of occurrence in a disease set. For example, if Puffy eyes is the dominant rule for a disease and occurs 5 out of the total 6 examples, the remaining dimension value is stored with a 1/6 probability of occurrence."
   ]
  },
  {
   "cell_type": "code",
   "execution_count": 11,
   "metadata": {
    "collapsed": true
   },
   "outputs": [],
   "source": [
    "# Threshold for rule acceptance\n",
    "threshold = 0.3"
   ]
  },
  {
   "cell_type": "markdown",
   "metadata": {},
   "source": [
    "### Exception Function"
   ]
  },
  {
   "cell_type": "code",
   "execution_count": 4,
   "metadata": {
    "collapsed": true
   },
   "outputs": [],
   "source": [
    "def get_exception(rules_array,proba_array,disease_type):\n",
    "    \"\"\"Function to find rule exceptions.\n",
    "\n",
    "    Parameters\n",
    "    ----------\n",
    "    rules_array : array of shape = [n_rules, n_dimensions]\n",
    "                Holds rules associated with a disease.\n",
    "    proba_array : list of length = n_rules\n",
    "                Holds the probability the rule holds true\n",
    "    disease_type : array of shape = [n_disease_examples, n_dimensions]\n",
    "                Holds the training data for a disease type\n",
    "    Returns\n",
    "    -------\n",
    "    exception_array : array of shape = [n_exceptions, n_dimensions].\n",
    "                    Exceptions to the most dominant rule.\n",
    "    exception_proba : list of length = n_exceptions\n",
    "                    Holds the probability the rule holds true\n",
    "    \"\"\"\n",
    "    # The attribute (column index) associated with the dominant rule\n",
    "    index = 0\n",
    "    # The attribute value associated with the dominant rule\n",
    "    dominant_dimension_val = 0\n",
    "\n",
    "    exception_proba = []\n",
    "    exception_array = np.zeros(shape=(1, 3), dtype=str)\n",
    "\n",
    "    # Find the dominant rule / rule with highest probability of occurring\n",
    "    highest_proba= proba_array.index(max(proba_array))\n",
    "    dominant_rule = rules_array[highest_proba]\n",
    "    # Find dimension and dimension value in this rule\n",
    "    for i in range(len(dominant_rule)):\n",
    "        if not dominant_rule[i] == 0:\n",
    "            dominant_dimension_val = dominant_rule[i]\n",
    "            index = i\n",
    "    # Find any examples that are exceptions to this rule\n",
    "    for i in range(len(disease_type)):\n",
    "        if not disease_type[i,index] == dominant_dimension_val:\n",
    "            # Temporarily hold exception\n",
    "            exception_temp = np.zeros(shape=(1, 3), dtype=basestring)\n",
    "            # Save the dimension value that is different to the dominant dimension val\n",
    "            exception_temp[0, index] = disease_type[i,index]\n",
    "            # Append to final exception list\n",
    "            exception_array = np.vstack((exception_array, exception_temp))\n",
    "            # Append probability of exception occurring\n",
    "            exception_proba.append(len(np.where(disease_type[index]==dominant_dimension_val))/float(len(disease_type)))\n",
    "\n",
    "    # Remove first dummy row from array\n",
    "    exception_array = np.delete(exception_array, (0), axis=0)\n",
    "\n",
    "    return exception_array,exception_proba"
   ]
  },
  {
   "cell_type": "markdown",
   "metadata": {},
   "source": [
    "### Rule Function"
   ]
  },
  {
   "cell_type": "code",
   "execution_count": 14,
   "metadata": {},
   "outputs": [],
   "source": [
    "# Count the number each attribute value occurs\n",
    "def make_rule(disease_type):\n",
    "\n",
    "    \"\"\"Function that finds dimension values that occur frequently and makes a rule for each of these values.\n",
    "    A rule is represented as a row in the the rules array which contains the dimension value in the column\n",
    "    index of the dimension in the disease array. For example if a rule is created for dimension = Eyes,\n",
    "    dimension_value = Puffy, the row for the rule will be ['Puffy', 0 , 0 ], because 'Eyes' is the first\n",
    "    dimension in the disease array\n",
    "\n",
    "    Parameters\n",
    "    ----------\n",
    "    disease_type : array of shape = [n_disease_examples, n_dimensions]\n",
    "                Holds the training data for a disease type\n",
    "    Returns\n",
    "    -------\n",
    "    rules_array : array of shape = [n_rules, n_dimensions].\n",
    "                    Rules and exceptions for a disease\n",
    "    proba_array : list of length = n_rules\n",
    "                    Probability the rules and exceptions hold true\n",
    "    \"\"\"\n",
    "\n",
    "    rules_array = np.zeros(shape=(1, 3), dtype=str)\n",
    "    proba_array = []\n",
    "\n",
    "    \"\"\" For each dimension of a disease find dimensions values that have a probability of \n",
    "    occurring over the threshold value and make a rule\"\"\"\n",
    "    for j in range(len(rules_array[0])):\n",
    "        # Count the number of times a dimension value occurs\n",
    "        unique_elements, counts_elements = np.unique(disease_type[:, j], return_counts=True)\n",
    "        # divide by the total number of examples to get the probability the value occurs\n",
    "        dimension_proba = counts_elements / float(len(disease_type))\n",
    "        values = np.asarray((unique_elements, dimension_proba))\n",
    "\n",
    "        # Find any dimension values above the threshold\n",
    "        for i in range(len(values[0])):\n",
    "            if values[1, i] >= threshold:\n",
    "                rules_temp = np.zeros(shape=(1, 3), dtype=basestring)\n",
    "                # Create a rule\n",
    "                rules_temp[0, j] = values[0, i]\n",
    "                rules_array = np.vstack((rules_array, rules_temp))\n",
    "                proba_array.append(values[1, i])\n",
    "\n",
    "    # Remove first dummy row from array\n",
    "    rules_array = np.delete(rules_array, (0), axis=0)\n",
    "\n",
    "    # Get exceptions to the dominant rule\n",
    "    exceptions, exception_proba = get_exception(rules_array, proba_array,disease_type)\n",
    "    # Append exceptions to rules array\n",
    "    rules_array = np.vstack((rules_array, exceptions))\n",
    "    # Append exceptions probabilities to rules array\n",
    "    proba_array.extend(exception_proba)\n",
    "\n",
    "    return rules_array, proba_array"
   ]
  },
  {
   "cell_type": "markdown",
   "metadata": {},
   "source": [
    "\"make_rule\" function: Creates rules from observed data. If a rule is true for 30% of the examples for a diseasee, the rule is saved to a rule array. There is one rule array for each disease. "
   ]
  },
  {
   "cell_type": "code",
   "execution_count": 15,
   "metadata": {},
   "outputs": [],
   "source": [
    "rules_a,rules_a_proba = make_rule(disease_A)\n",
    "rules_b,rules_b_proba = make_rule(disease_B)\n",
    "rules_c,rules_c_proba = make_rule(disease_C)"
   ]
  },
  {
   "cell_type": "markdown",
   "metadata": {},
   "source": [
    "### Score Function"
   ]
  },
  {
   "cell_type": "markdown",
   "metadata": {},
   "source": [
    "\"get_score\" function: Takes in unseen data and searches for rules in the data. The function then scores the example depending on how likley the rule is to occur. This score represents the confidence level that the example belongs to a certain disease, because if a rule has a higher likely hood of holding true the confidence in the rule is higer. For example if a rule states that puffy eyes is associated with diease A and that is true for three out of four of the training examples for disease A then there is 75% confidence that person has disease A if  puffy eyes is an attribute value."
   ]
  },
  {
   "cell_type": "code",
   "execution_count": 17,
   "metadata": {
    "collapsed": true
   },
   "outputs": [],
   "source": [
    "def get_score(rules_array,proba_array,X):\n",
    "\n",
    "    \"\"\"Function to find the scores of unseen data.\n",
    "\n",
    "    Parameters\n",
    "    ----------\n",
    "    rules_array : array of shape = [n_rules, n_dimensions]\n",
    "                Holds rules for associated with a disease.\n",
    "    proba_array : list of length = n_rules\n",
    "                Holds the probability the rule holds true\n",
    "    X : array of shape = [n_test_examples, n_dimensions]\n",
    "                Test data\n",
    "    Returns\n",
    "    -------\n",
    "    scores : list of length = [n_test_examples].\n",
    "                Scores given to the likelihood of test data\n",
    "                resulting in a given disease A, B or C\n",
    "    \"\"\"\n",
    "    scores = np.zeros(shape=( len(X),1))\n",
    "    for j in range(len(X)):\n",
    "        temp_score = []\n",
    "\n",
    "        for i in range(len(X[0])):\n",
    "            # Find the index where there is a rule for a test example\n",
    "            itemindex = np.where(rules_array==X[j,i])\n",
    "            # If there is no rule for an example apply score of zero\n",
    "            if len(itemindex[0]) ==0:\n",
    "                temp_score = np.append(temp_score, 0)\n",
    "            # If a rule applies, score = probability/confidence level of rule occurring\n",
    "            else:\n",
    "                index_value = (itemindex[0])[0]\n",
    "                temp_score =np.append(temp_score,proba_array[index_value])\n",
    "        scores[j,0] = sum(temp_score)\n",
    "    return scores"
   ]
  },
  {
   "cell_type": "code",
   "execution_count": 18,
   "metadata": {},
   "outputs": [],
   "source": [
    "disease_a_score = get_score(rules_a,rules_a_proba,df_test)\n",
    "disease_b_score = get_score(rules_b,rules_b_proba,df_test)\n",
    "disease_c_score = get_score(rules_c,rules_c_proba,df_test)\n",
    "disease_scores = np.column_stack((disease_a_score,disease_b_score,disease_c_score))"
   ]
  },
  {
   "cell_type": "markdown",
   "metadata": {},
   "source": [
    "### Conjunctive Score Function"
   ]
  },
  {
   "cell_type": "code",
   "execution_count": 19,
   "metadata": {
    "collapsed": true
   },
   "outputs": [],
   "source": [
    "def get_conjunctive_score(individual_scores):\n",
    "\n",
    "    \"\"\"   Iterate through row and column in the individual_scores array\n",
    "    and find mean between\n",
    "\n",
    "    Parameters\n",
    "    ----------\n",
    "    individual_scores : array of shape = [n_test_examples, n_diseases].\n",
    "                Scores given to the likelihood of test data\n",
    "                resulting in a given disease A, B or C\n",
    "    Returns\n",
    "    -------\n",
    "    scores : array of shape = [n_test_examples, n_disease_conjunctions].\n",
    "                Scores given to the likelihood of test data\n",
    "                resulting in a conjunction of given diseases.\n",
    "                Conjunctions: Diseases A and B, B and C , A and C\n",
    "    \"\"\"\n",
    "    # Initialize array to hold scores\n",
    "    conjunctive_score = np.zeros(shape=(len(df_test), 3))\n",
    "    print individual_scores\n",
    "    # Iterate through row and column in the individual_scores array\n",
    "    for i in ( range(len(individual_scores[0]-1)) ):\n",
    "        for j in range(len(individual_scores)):\n",
    "            # If at the last disease scores, loop back to compare to the first\n",
    "            if i == len(individual_scores[0])-1:\n",
    "                values=[individual_scores[j,0],individual_scores[j,-1]]\n",
    "                conjunctive_score[j,i] = np.mean(values)\n",
    "            # Otherwise compare current scores to the next disease in the array\n",
    "            else:\n",
    "                conjunctive_score[j,i] = np.mean(individual_scores[j,i:i+2])\n",
    "    return conjunctive_score"
   ]
  },
  {
   "cell_type": "code",
   "execution_count": null,
   "metadata": {
    "collapsed": true
   },
   "outputs": [],
   "source": [
    "conjunctive_score_array = get_conjunctive_score(disease_scores)\n",
    "combined_scores = np.column_stack((disease_scores,conjunctive_score_array))"
   ]
  },
  {
   "cell_type": "markdown",
   "metadata": {},
   "source": [
    "### Z-transform"
   ]
  },
  {
   "cell_type": "code",
   "execution_count": 27,
   "metadata": {},
   "outputs": [],
   "source": [
    "# Z transforms of peoples scores and models scores\n",
    "peoples_scores = np.asarray((df[21:51,5]),dtype='float64')\n",
    "peoples_scores = stats.zscore(peoples_scores)\n",
    "model_scores = stats.zscore(combined_scores.flatten(order='F'))\n",
    "z_score_df  = pd.DataFrame({'Peoples_scores':peoples_scores, 'Model_scores':model_scores})"
   ]
  },
  {
   "cell_type": "markdown",
   "metadata": {},
   "source": [
    "### Pearson Correlation Coefficient "
   ]
  },
  {
   "cell_type": "code",
   "execution_count": 25,
   "metadata": {},
   "outputs": [
    {
     "name": "stdout",
     "output_type": "stream",
     "text": [
      "Correlation Coefficient: \n",
      "[[ 1.          0.55939468]\n",
      " [ 0.55939468  1.        ]]\n"
     ]
    }
   ],
   "source": [
    "# Calculate pearson correlation coefficient\n",
    "correlation = np.corrcoef(model_scores,peoples_scores)\n",
    "print \"Correlation Coefficient: \"\n",
    "print correlation\n"
   ]
  },
  {
   "cell_type": "markdown",
   "metadata": {},
   "source": [
    "### Display Results "
   ]
  },
  {
   "cell_type": "code",
   "execution_count": 39,
   "metadata": {},
   "outputs": [
    {
     "name": "stdout",
     "output_type": "stream",
     "text": [
      "      Disease Category               Test Symptoms      Model     People\n",
      "0           category A       Puffy Blotchy Twitchy    1.24129    2.17236\n",
      "1           category A      Cloudy Sweaty Strained   -1.77806   -1.55241\n",
      "2           category A        Sunken Pallid Knotty   0.234839  -0.114294\n",
      "3           category A    Bloodshot Blotchy Knotty   -1.27484  -0.102734\n",
      "4           category A  Bloodshot Flaking Strained   -1.27484   0.283385\n",
      "5           category B       Puffy Blotchy Twitchy  -0.268387   0.142348\n",
      "6           category B      Cloudy Sweaty Strained   0.738064  -0.139727\n",
      "7           category B        Sunken Pallid Knotty   -1.77806  -0.616017\n",
      "8           category B    Bloodshot Blotchy Knotty   0.738064   0.475288\n",
      "9           category B  Bloodshot Flaking Strained    1.74451    2.22323\n",
      "10          category C       Puffy Blotchy Twitchy   -1.77806   -1.48999\n",
      "11          category C      Cloudy Sweaty Strained    1.74451    2.01745\n",
      "12          category C        Sunken Pallid Knotty    1.24129  -0.269204\n",
      "13          category C    Bloodshot Blotchy Knotty   0.738064   0.655631\n",
      "14          category C  Bloodshot Flaking Strained  -0.268387    -1.0137\n",
      "15  categories A and B       Puffy Blotchy Twitchy   0.486451   0.875279\n",
      "16  categories A and B      Cloudy Sweaty Strained      -0.52   -1.37438\n",
      "17  categories A and B        Sunken Pallid Knotty  -0.771612  -0.255332\n",
      "18  categories A and B    Bloodshot Blotchy Knotty  -0.268387 -0.0241228\n",
      "19  categories A and B  Bloodshot Flaking Strained   0.234839   -0.16516\n",
      "20  categories A and C       Puffy Blotchy Twitchy   -1.02322   -0.64145\n",
      "21  categories A and C      Cloudy Sweaty Strained    1.24129  -0.333943\n",
      "22  categories A and C        Sunken Pallid Knotty  -0.268387   0.359684\n",
      "23  categories A and C    Bloodshot Blotchy Knotty   0.738064  -0.565151\n",
      "24  categories A and C  Bloodshot Flaking Strained   0.738064   -1.07843\n",
      "25  categories B and C       Puffy Blotchy Twitchy  -0.268387    -1.2056\n",
      "26  categories B and C      Cloudy Sweaty Strained -0.0167742     1.6059\n",
      "27  categories B and C        Sunken Pallid Knotty   0.738064   -0.48654\n",
      "28  categories B and C    Bloodshot Blotchy Knotty  -0.268387   0.218646\n",
      "29  categories B and C  Bloodshot Flaking Strained  -0.771612   0.398989\n"
     ]
    }
   ],
   "source": [
    "# Display Results in a data frame\n",
    "disease_names = np.asarray(df[21:51,4])\n",
    "test_data = np.asarray(df[21:26,3])\n",
    "test_data = np.tile(test_data, 6)\n",
    "display = np.column_stack((disease_names,test_data,model_scores,peoples_scores))\n",
    "headers = ['Disease Category', 'Test Symptoms' ,'Model', 'People']\n",
    "\n",
    "\n",
    "\n",
    "results_df = pd.DataFrame(display)\n",
    "results_df.columns = headers\n",
    "\n",
    "print results_df"
   ]
  },
  {
   "cell_type": "markdown",
   "metadata": {},
   "source": [
    "### Plot Results"
   ]
  },
  {
   "cell_type": "code",
   "execution_count": 26,
   "metadata": {},
   "outputs": [
    {
     "data": {
      "image/png": "[encoded data removed]",
      "text/plain": [
       "<matplotlib.figure.Figure at 0x1a08cd82d0>"
      ]
     },
     "metadata": {},
     "output_type": "display_data"
    }
   ],
   "source": [
    "# Plot peoples scores vs models scores with regression line\n",
    "\n",
    "ls = sns.regplot(x=z_score_df['Peoples_scores'], y=z_score_df['Model_scores'])\n",
    "ls.figure.set_size_inches(18.5, 10.5)\n",
    "plt.axhline(0, color='black')\n",
    "plt.axvline(0, color='black')\n",
    "plt.xlabel('Peoples Scores')\n",
    "plt.ylabel('Models Scores')\n",
    "plt.title('Comparison of models and subjects scores for all disease categories on unseen data')\n",
    "plt.grid()\n",
    "plt.show()"
   ]
  }
 ],
 "metadata": {
  "kernelspec": {
   "display_name": "Python 2",
   "language": "python",
   "name": "python2"
  },
  "language_info": {
   "codemirror_mode": {
    "name": "ipython",
    "version": 2
   },
   "file_extension": ".py",
   "mimetype": "text/x-python",
   "name": "python",
   "nbconvert_exporter": "python",
   "pygments_lexer": "ipython2",
   "version": "2.7.13"
  }
 },
 "nbformat": 4,
 "nbformat_minor": 2
}
